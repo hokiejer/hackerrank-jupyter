{
 "cells": [
  {
   "cell_type": "markdown",
   "metadata": {},
   "source": [
    "# HackerRank Project Euler Contest\n",
    "\n",
    "This notebook tracks my entries in the [HackerRank Project Euler Contest](https://www.hackerrank.com/contests/projecteuler/challenges).  I'm tired of their tutorials, so let's try some actual programming problems.\n",
    "\n",
    "And yes, I will almost certainly get bogged down in the math problems and stop learning Python, but it'll be helpful until I get to that point!"
   ]
  },
  {
   "cell_type": "markdown",
   "metadata": {},
   "source": [
    "# Challenge 1: Multiples of 3 and 5\n",
    "\n",
    "If we list all the natural numbers below 10 that are multiples of 3 or 5, we get 3, 5, 6, and 9.  The sum of these multiples is 23.\n",
    "\n",
    "Find the sum of all the multiples of 3 or 5 below _N_."
   ]
  },
  {
   "cell_type": "code",
   "execution_count": 15,
   "metadata": {},
   "outputs": [
    {
     "name": "stdout",
     "output_type": "stream",
     "text": [
      "63\n",
      "30\n",
      "15\n",
      "78\n"
     ]
    }
   ],
   "source": [
    "# Find the sum of the multiples of a below n\n",
    "#\n",
    "# The multiples of a below n are a, 2a, 3a, ..., ka where k is n div a.\n",
    "# This means their sum is a + a(2) + a(3) + ... + a(k) = a(1 + 2 + 3 + ... + k) = a(k(k+1)/2).\n",
    "def sum_of_multiples(a, n):\n",
    "    if n < a:\n",
    "        return 0\n",
    "    x = (n-1) // a;\n",
    "    return a * (x * (x + 1)) // 2\n",
    "\n",
    "def sum_of_multiples_pair(a, b, n):\n",
    "    return sum_of_multiples(a, n) + sum_of_multiples(b, n) - sum_of_multiples(a * b, n)\n",
    "\n",
    "print(sum_of_multiples(3, 20))\n",
    "print(sum_of_multiples(5, 20))\n",
    "print(sum_of_multiples(15, 20))\n",
    "\n",
    "print(sum_of_multiples_pair(3, 5, 20))"
   ]
  },
  {
   "cell_type": "markdown",
   "metadata": {},
   "source": [
    "# Challenge 2: Even Fibonacci Numbers\n",
    "\n",
    "By considering the terms in the Fibonacci sequence whose values do not exceed _N_, find the sum of the even-valued terms."
   ]
  },
  {
   "cell_type": "code",
   "execution_count": 43,
   "metadata": {},
   "outputs": [
    {
     "name": "stdout",
     "output_type": "stream",
     "text": [
      "10\n",
      "44\n"
     ]
    }
   ],
   "source": [
    "def fibonacci(n):\n",
    "    f = [1,2]\n",
    "    for i in range(2, n):\n",
    "        f.append(f[i-1] + f[i-2])\n",
    "    return f\n",
    "\n",
    "# remove all odd values from fibonacci(1000)\n",
    "def fibonacci_even(n):\n",
    "    f = fibonacci(n)\n",
    "    return [x for x in f if x % 2 == 0]\n",
    "\n",
    "# find the sum of all even fibonacci numbers less than n\n",
    "def fibonacci_sum_max(n,fe):\n",
    "    i = 0\n",
    "    sum = 0\n",
    "    while fe[i] < n:\n",
    "        sum += fe[i]\n",
    "        i += 1\n",
    "    return sum\n",
    "\n",
    "fe = fibonacci_even(1000)\n",
    "test_list = [10, 100]\n",
    "\n",
    "for i in test_list:\n",
    "    print(fibonacci_sum_max(i,fe))\n"
   ]
  },
  {
   "cell_type": "markdown",
   "metadata": {},
   "source": [
    "# Challenge 3: Largest Prime Factor\n",
    "\n",
    "What is the largest prime factor of a given number _N_?"
   ]
  },
  {
   "cell_type": "code",
   "execution_count": 23,
   "metadata": {},
   "outputs": [
    {
     "name": "stdout",
     "output_type": "stream",
     "text": [
      "i == 2\n",
      "[1, 2]\n",
      "[1, 2]\n",
      "2\n",
      "\n",
      "i == 3\n",
      "[1, 3]\n",
      "[1, 3]\n",
      "3\n",
      "\n",
      "i == 4\n",
      "[1, 2, 4]\n",
      "[1, 2]\n",
      "2\n",
      "\n",
      "i == 5\n",
      "[1, 5]\n",
      "[1, 5]\n",
      "5\n",
      "\n",
      "i == 6\n",
      "[1, 2, 3, 6]\n",
      "[1, 2, 3]\n",
      "3\n",
      "\n",
      "i == 7\n",
      "[1, 7]\n",
      "[1, 7]\n",
      "7\n",
      "\n",
      "i == 8\n",
      "[1, 2, 4, 8]\n",
      "[1, 2]\n",
      "2\n",
      "\n",
      "i == 9\n",
      "[1, 3, 9]\n",
      "[1, 3]\n",
      "3\n",
      "\n",
      "i == 10\n",
      "[1, 2, 5, 10]\n",
      "[1, 2, 5]\n",
      "5\n",
      "\n",
      "i == 100\n",
      "[1, 2, 4, 5, 10, 20, 25, 50, 100]\n",
      "[1, 2, 5]\n",
      "5\n",
      "\n",
      "i == 144\n",
      "[1, 2, 3, 4, 6, 8, 9, 12, 16, 18, 24, 36, 48, 72, 144]\n",
      "[1, 2, 3]\n",
      "3\n",
      "\n",
      "i == 101\n",
      "[1, 101]\n",
      "[1, 101]\n",
      "101\n",
      "\n",
      "i == 10000000000\n",
      "[1, 2, 4, 5, 8, 10, 16, 20, 25, 32, 40, 50, 64, 80, 100, 125, 128, 160, 200, 250, 256, 320, 400, 500, 512, 625, 640, 800, 1000, 1024, 1250, 1280, 1600, 2000, 2500, 2560, 3125, 3200, 4000, 5000, 5120, 6250, 6400, 8000, 10000, 12500, 12800, 15625, 16000, 20000, 25000, 25600, 31250, 32000, 40000, 50000, 62500, 64000, 78125, 80000, 100000, 125000, 128000, 156250, 160000, 200000, 250000, 312500, 320000, 390625, 400000, 500000, 625000, 640000, 781250, 800000, 1000000, 1250000, 1562500, 1600000, 1953125, 2000000, 2500000, 3125000, 3200000, 3906250, 4000000, 5000000, 6250000, 7812500, 8000000, 9765625, 10000000, 12500000, 15625000, 16000000, 19531250, 20000000, 25000000, 31250000, 39062500, 40000000, 50000000, 62500000, 78125000, 80000000, 100000000, 125000000, 156250000, 200000000, 250000000, 312500000, 400000000, 500000000, 625000000, 1000000000, 1250000000, 2000000000, 2500000000, 5000000000, 10000000000]\n",
      "[1, 2, 5]\n",
      "5\n",
      "\n"
     ]
    }
   ],
   "source": [
    "import math\n",
    "\n",
    "def get_factor_array(n):\n",
    "    arr = []\n",
    "    i = 1\n",
    "    while i <= math.floor(math.sqrt(n)):\n",
    "        if n % i == 0:\n",
    "            arr.append(i)\n",
    "            if (n // i) != i:\n",
    "                arr.append(n // i)\n",
    "        i += 1\n",
    "    return sorted(arr)\n",
    "\n",
    "def eliminate_composites(arr):\n",
    "    index = 1\n",
    "    while index < len(arr):\n",
    "        divisor = arr[index]\n",
    "        i = index + 1\n",
    "        while i < len(arr):\n",
    "            if arr[i] % divisor == 0:\n",
    "                arr.pop(i)\n",
    "            else:\n",
    "                i += 1\n",
    "        index += 1\n",
    "    return arr\n",
    "\n",
    "def lpf(n):\n",
    "    arr = eliminate_composites(get_factor_array(n))\n",
    "    return arr[len(arr) - 1]\n",
    "\n",
    "test_array = [\n",
    "    2,\n",
    "    3,\n",
    "    4,\n",
    "    5,\n",
    "    6,\n",
    "    7,\n",
    "    8,\n",
    "    9,\n",
    "    10,\n",
    "    100,\n",
    "    144,\n",
    "    101,\n",
    "    10000000000\n",
    "]\n",
    "\n",
    "for i in test_array:\n",
    "    print(\"i == \" + str(i))\n",
    "    print(get_factor_array(i))\n",
    "    print(eliminate_composites(get_factor_array(i)))\n",
    "    print(lpf(i))\n",
    "    print(\"\")\n"
   ]
  },
  {
   "cell_type": "markdown",
   "metadata": {},
   "source": [
    "# Challenge #4 - Largest Palindrome\n",
    "\n",
    "Find the largest palindrome made from the product of two 3-digit numbers which is less than _N_."
   ]
  },
  {
   "cell_type": "code",
   "execution_count": 15,
   "metadata": {},
   "outputs": [
    {
     "name": "stdout",
     "output_type": "stream",
     "text": [
      "101101\n",
      "793397\n"
     ]
    }
   ],
   "source": [
    "import math\n",
    "\n",
    "def is_palindrome(n):\n",
    "    if (n // 100000) % 10 == n % 10 and (n // 10000) % 10 == (n // 10) % 10 and (n // 1000) % 10 == (n // 100) % 10:\n",
    "        return True\n",
    "    return False\n",
    "\n",
    "def has_three_digits(n):\n",
    "    if n >= 100 and n <= 999:\n",
    "        return True\n",
    "    return False\n",
    "\n",
    "def get_factor_array(n):\n",
    "    arr = []\n",
    "    i = 1\n",
    "    while i <= math.floor(math.sqrt(n)):\n",
    "        if n % i == 0:\n",
    "            arr.append(i)\n",
    "            if (n // i) != i:\n",
    "                arr.append(n // i)\n",
    "        i += 1\n",
    "    return sorted(arr)\n",
    "\n",
    "def find_next_lowest_palindrome(n):\n",
    "    n -= 1\n",
    "    while not is_palindrome(n):\n",
    "        n -= 1\n",
    "    return n\n",
    "\n",
    "def find_largest_palindrome_product_of_three_digit_numbers(n):\n",
    "    x = n\n",
    "    while x > 101101:\n",
    "        x = find_next_lowest_palindrome(x)\n",
    "        factors = get_factor_array(x)\n",
    "        for i in factors:\n",
    "            if has_three_digits(i) and has_three_digits(x // i):\n",
    "                return x\n",
    "\n",
    "print(find_largest_palindrome_product_of_three_digit_numbers(101110))\n",
    "print(find_largest_palindrome_product_of_three_digit_numbers(800000))\n",
    "\n"
   ]
  },
  {
   "cell_type": "markdown",
   "metadata": {},
   "source": [
    "# Challenge #5 - Smallest Multiple\n",
    "\n",
    "What is the smallest positive number that is evenly divisible(divisible with no remainder) by all of the numbers from 1 to _N_?"
   ]
  },
  {
   "cell_type": "code",
   "execution_count": 48,
   "metadata": {},
   "outputs": [
    {
     "name": "stdout",
     "output_type": "stream",
     "text": [
      "primes list == [2, 3, 5]\n",
      "exponents == [2, 1, 1]\n",
      "60\n"
     ]
    }
   ],
   "source": [
    "import math\n",
    "\n",
    "# Return the set of primes less than n\n",
    "def primes(n):\n",
    "    if n == 2:\n",
    "        return {}\n",
    "    set = {i for i in range(3, n, 2)}\n",
    "    for i in range(3, math.floor(math.sqrt(n)+1), 2):\n",
    "        # Only remove multiples of Fermat pseudoprimes (others will be composite and already gone)\n",
    "        if pow(2, i-1, i) == 1: \n",
    "            test_set = {j for j in range(2*i, n, i)}\n",
    "            set = set - test_set\n",
    "    set = set | {2}\n",
    "    return set\n",
    "\n",
    "def primes_list(p):\n",
    "    return sorted(list(p))\n",
    "\n",
    "def find_exponents(n,pl):\n",
    "    arr = []\n",
    "    for i in pl:\n",
    "        exponent = 2\n",
    "        while i**exponent <= n:\n",
    "            exponent += 1\n",
    "        arr.append(exponent - 1)\n",
    "    return arr\n",
    "\n",
    "def raise_exponents(pl,exponents):\n",
    "    product = 1\n",
    "    for i in range(len(pl)):\n",
    "        product *= pl[i]**exponents[i]\n",
    "    return product\n",
    "\n",
    "n = 6\n",
    "p = primes(n+1)\n",
    "pl = primes_list(p)\n",
    "print(\"primes list == \" + str(pl))\n",
    "exponents = find_exponents(n,pl)\n",
    "print(\"exponents == \" + str(exponents))\n",
    "print(raise_exponents(pl,exponents))"
   ]
  },
  {
   "cell_type": "markdown",
   "metadata": {},
   "source": [
    "# Challenge #6 - Sum Square Difference\n",
    "\n",
    "Find the absolute difference between the sum of the squares of the first _N_ natural numbers and the square of the sum."
   ]
  },
  {
   "cell_type": "code",
   "execution_count": null,
   "metadata": {},
   "outputs": [],
   "source": [
    "import math\n",
    "\n",
    "sum_of_squares = 0\n",
    "sum = 0\n",
    "\n",
    "for i in range(1, n):\n",
    "    sum_of_squares += i**2\n",
    "    sum += i\n",
    "\n",
    "square_of_sum = sum**2\n",
    "if square_of_sum > sum_of_squares:\n",
    "    print(square_of_sum - sum_of_squares)\n",
    "else:\n",
    "    print(sum_of_squares - square_of_sum)"
   ]
  },
  {
   "cell_type": "markdown",
   "metadata": {},
   "source": [
    "# Challenge #7 - What is the Nth Prime Number?"
   ]
  },
  {
   "cell_type": "code",
   "execution_count": 35,
   "metadata": {},
   "outputs": [
    {
     "name": "stdout",
     "output_type": "stream",
     "text": [
      "7927\n"
     ]
    }
   ],
   "source": [
    "import math\n",
    "\n",
    "def primes(n):\n",
    "    set = {i for i in range(3, n, 2)}\n",
    "    for i in range(3, math.floor(math.sqrt(n)), 2):\n",
    "        # Only remove multiples of Fermat pseudoprimes (others will be composite and already gone)\n",
    "        if pow(2, i-1, i) == 1: \n",
    "            test_set = {j for j in range(2*i, n, i)}\n",
    "            set = set - test_set\n",
    "    set = set | {2}\n",
    "    return set\n",
    "\n",
    "def primes_list(p):\n",
    "    return sorted(list(p))\n",
    "\n",
    "p = primes(1000000)\n",
    "pl = primes_list(p)\n",
    "print(pl[1000])"
   ]
  },
  {
   "cell_type": "markdown",
   "metadata": {},
   "source": [
    "# Challenge #10 - Sum Of Primes Less Than Or Equal To _N_"
   ]
  },
  {
   "cell_type": "code",
   "execution_count": 34,
   "metadata": {},
   "outputs": [
    {
     "name": "stdout",
     "output_type": "stream",
     "text": [
      "78498\n",
      "2 =>  2\n",
      "3 =>  5\n",
      "4 =>  5\n",
      "5 =>  10\n",
      "6 =>  10\n",
      "7 =>  17\n",
      "8 =>  17\n",
      "9 =>  17\n",
      "10 =>  17\n",
      "11 =>  28\n",
      "12 =>  28\n",
      "100 =>  1060\n",
      "122 =>  1593\n"
     ]
    }
   ],
   "source": [
    "import math\n",
    "\n",
    "def primes(n):\n",
    "    set = {i for i in range(3, n, 2)}\n",
    "    for i in range(3, math.floor(math.sqrt(n)), 2):\n",
    "        # Only remove multiples of Fermat pseudoprimes (others will be composite and already gone)\n",
    "        if pow(2, i-1, i) == 1: \n",
    "            test_set = {j for j in range(2*i, n, i)}\n",
    "            set = set - test_set\n",
    "    set = set | {2}\n",
    "    return set\n",
    "\n",
    "def primes_list(p):\n",
    "    return sorted(list(p))\n",
    "\n",
    "def prime_sums(n, primes):\n",
    "    pl = primes_list(primes)\n",
    "    sums = [0] * (n+1)\n",
    "    sum = 0\n",
    "    for p in pl:\n",
    "        sum += p\n",
    "        sums[p] = sum\n",
    "    for i in range(1, n+1):\n",
    "        if sums[i] == 0:\n",
    "            sums[i] = sums[i-1]\n",
    "    return sums\n",
    "\n",
    "def sum_of_primes_less_than_or_equal_to(n,primes):\n",
    "    return sum(i for i in primes if i <= n)\n",
    "\n",
    "p = primes(1000000)\n",
    "ps = prime_sums(1000000,p)\n",
    "\n",
    "test_values = [\n",
    "    2,\n",
    "    3,\n",
    "    4,\n",
    "    5,\n",
    "    6,\n",
    "    7,\n",
    "    8,\n",
    "    9,\n",
    "    10,\n",
    "    11,\n",
    "    12,\n",
    "    100,\n",
    "    122\n",
    "]\n",
    "\n",
    "for i in test_values:\n",
    "    print(i,\"=> \",ps[i])\n"
   ]
  }
 ],
 "metadata": {
  "kernelspec": {
   "display_name": "Python 3",
   "language": "python",
   "name": "python3"
  },
  "language_info": {
   "codemirror_mode": {
    "name": "ipython",
    "version": 3
   },
   "file_extension": ".py",
   "mimetype": "text/x-python",
   "name": "python",
   "nbconvert_exporter": "python",
   "pygments_lexer": "ipython3",
   "version": "3.10.8"
  }
 },
 "nbformat": 4,
 "nbformat_minor": 2
}
