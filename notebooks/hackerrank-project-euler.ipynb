{
 "cells": [
  {
   "cell_type": "markdown",
   "metadata": {},
   "source": [
    "# HackerRank Project Euler Contest\n",
    "\n",
    "This notebook tracks my entries in the [HackerRank Project Euler Contest](https://www.hackerrank.com/contests/projecteuler/challenges).  I'm tired of their tutorials, so let's try some actual programming problems.\n",
    "\n",
    "And yes, I will almost certainly get bogged down in the math problems and stop learning Python, but it'll be helpful until I get to that point!"
   ]
  },
  {
   "cell_type": "markdown",
   "metadata": {},
   "source": [
    "# Challenge 1: Multiples of 3 and 5\n",
    "\n",
    "If we list all the natural numbers below 10 that are multiples of 3 or 5, we get 3, 5, 6, and 9.  The sum of these multiples is 23.\n",
    "\n",
    "Find the sum of all the multiples of 3 or 5 below _N_."
   ]
  },
  {
   "cell_type": "code",
   "execution_count": 15,
   "metadata": {},
   "outputs": [
    {
     "name": "stdout",
     "output_type": "stream",
     "text": [
      "63\n",
      "30\n",
      "15\n",
      "78\n"
     ]
    }
   ],
   "source": [
    "# Find the sum of the multiples of a below n\n",
    "#\n",
    "# The multiples of a below n are a, 2a, 3a, ..., ka where k is n div a.\n",
    "# This means their sum is a + a(2) + a(3) + ... + a(k) = a(1 + 2 + 3 + ... + k) = a(k(k+1)/2).\n",
    "def sum_of_multiples(a, n):\n",
    "    if n < a:\n",
    "        return 0\n",
    "    x = (n-1) // a;\n",
    "    return a * (x * (x + 1)) // 2\n",
    "\n",
    "def sum_of_multiples_pair(a, b, n):\n",
    "    return sum_of_multiples(a, n) + sum_of_multiples(b, n) - sum_of_multiples(a * b, n)\n",
    "\n",
    "print(sum_of_multiples(3, 20))\n",
    "print(sum_of_multiples(5, 20))\n",
    "print(sum_of_multiples(15, 20))\n",
    "\n",
    "print(sum_of_multiples_pair(3, 5, 20))"
   ]
  },
  {
   "cell_type": "markdown",
   "metadata": {},
   "source": [
    "# Challenge 2: Even Fibonacci Numbers\n",
    "\n",
    "By considering the terms in the Fibonacci sequence whose values do not exceed _N_, find the sum of the even-valued terms."
   ]
  },
  {
   "cell_type": "code",
   "execution_count": null,
   "metadata": {},
   "outputs": [],
   "source": [
    "# I'm stuck on this.  Brain-lock on Fibonacci numbers."
   ]
  },
  {
   "cell_type": "code",
   "execution_count": null,
   "metadata": {},
   "outputs": [],
   "source": []
  },
  {
   "cell_type": "markdown",
   "metadata": {},
   "source": [
    "# Challenge 3: Largest Prime Factor\n",
    "\n",
    "What is the largest prime factor of a given number _N_?"
   ]
  },
  {
   "cell_type": "code",
   "execution_count": 23,
   "metadata": {},
   "outputs": [
    {
     "name": "stdout",
     "output_type": "stream",
     "text": [
      "i == 2\n",
      "[1, 2]\n",
      "[1, 2]\n",
      "2\n",
      "\n",
      "i == 3\n",
      "[1, 3]\n",
      "[1, 3]\n",
      "3\n",
      "\n",
      "i == 4\n",
      "[1, 2, 4]\n",
      "[1, 2]\n",
      "2\n",
      "\n",
      "i == 5\n",
      "[1, 5]\n",
      "[1, 5]\n",
      "5\n",
      "\n",
      "i == 6\n",
      "[1, 2, 3, 6]\n",
      "[1, 2, 3]\n",
      "3\n",
      "\n",
      "i == 7\n",
      "[1, 7]\n",
      "[1, 7]\n",
      "7\n",
      "\n",
      "i == 8\n",
      "[1, 2, 4, 8]\n",
      "[1, 2]\n",
      "2\n",
      "\n",
      "i == 9\n",
      "[1, 3, 9]\n",
      "[1, 3]\n",
      "3\n",
      "\n",
      "i == 10\n",
      "[1, 2, 5, 10]\n",
      "[1, 2, 5]\n",
      "5\n",
      "\n",
      "i == 100\n",
      "[1, 2, 4, 5, 10, 20, 25, 50, 100]\n",
      "[1, 2, 5]\n",
      "5\n",
      "\n",
      "i == 144\n",
      "[1, 2, 3, 4, 6, 8, 9, 12, 16, 18, 24, 36, 48, 72, 144]\n",
      "[1, 2, 3]\n",
      "3\n",
      "\n",
      "i == 101\n",
      "[1, 101]\n",
      "[1, 101]\n",
      "101\n",
      "\n",
      "i == 10000000000\n",
      "[1, 2, 4, 5, 8, 10, 16, 20, 25, 32, 40, 50, 64, 80, 100, 125, 128, 160, 200, 250, 256, 320, 400, 500, 512, 625, 640, 800, 1000, 1024, 1250, 1280, 1600, 2000, 2500, 2560, 3125, 3200, 4000, 5000, 5120, 6250, 6400, 8000, 10000, 12500, 12800, 15625, 16000, 20000, 25000, 25600, 31250, 32000, 40000, 50000, 62500, 64000, 78125, 80000, 100000, 125000, 128000, 156250, 160000, 200000, 250000, 312500, 320000, 390625, 400000, 500000, 625000, 640000, 781250, 800000, 1000000, 1250000, 1562500, 1600000, 1953125, 2000000, 2500000, 3125000, 3200000, 3906250, 4000000, 5000000, 6250000, 7812500, 8000000, 9765625, 10000000, 12500000, 15625000, 16000000, 19531250, 20000000, 25000000, 31250000, 39062500, 40000000, 50000000, 62500000, 78125000, 80000000, 100000000, 125000000, 156250000, 200000000, 250000000, 312500000, 400000000, 500000000, 625000000, 1000000000, 1250000000, 2000000000, 2500000000, 5000000000, 10000000000]\n",
      "[1, 2, 5]\n",
      "5\n",
      "\n"
     ]
    }
   ],
   "source": [
    "import math\n",
    "\n",
    "def get_factor_array(n):\n",
    "    arr = []\n",
    "    i = 1\n",
    "    while i <= math.floor(math.sqrt(n)):\n",
    "        if n % i == 0:\n",
    "            arr.append(i)\n",
    "            if (n // i) != i:\n",
    "                arr.append(n // i)\n",
    "        i += 1\n",
    "    return sorted(arr)\n",
    "\n",
    "def eliminate_composites(arr):\n",
    "    index = 1\n",
    "    while index < len(arr):\n",
    "        divisor = arr[index]\n",
    "        i = index + 1\n",
    "        while i < len(arr):\n",
    "            if arr[i] % divisor == 0:\n",
    "                arr.pop(i)\n",
    "            else:\n",
    "                i += 1\n",
    "        index += 1\n",
    "    return arr\n",
    "\n",
    "def lpf(n):\n",
    "    arr = eliminate_composites(get_factor_array(n))\n",
    "    return arr[len(arr) - 1]\n",
    "\n",
    "test_array = [\n",
    "    2,\n",
    "    3,\n",
    "    4,\n",
    "    5,\n",
    "    6,\n",
    "    7,\n",
    "    8,\n",
    "    9,\n",
    "    10,\n",
    "    100,\n",
    "    144,\n",
    "    101,\n",
    "    10000000000\n",
    "]\n",
    "\n",
    "for i in test_array:\n",
    "    print(\"i == \" + str(i))\n",
    "    print(get_factor_array(i))\n",
    "    print(eliminate_composites(get_factor_array(i)))\n",
    "    print(lpf(i))\n",
    "    print(\"\")\n"
   ]
  },
  {
   "cell_type": "markdown",
   "metadata": {},
   "source": [
    "# Challenge #10 - Sum Of Primes Less Than Or Equal To _N_"
   ]
  },
  {
   "cell_type": "code",
   "execution_count": 10,
   "metadata": {},
   "outputs": [
    {
     "name": "stdout",
     "output_type": "stream",
     "text": [
      "2 =>  2\n",
      "3 =>  5\n",
      "4 =>  5\n",
      "5 =>  10\n",
      "6 =>  10\n",
      "7 =>  17\n",
      "8 =>  17\n",
      "9 =>  17\n",
      "10 =>  17\n",
      "11 =>  28\n",
      "12 =>  28\n",
      "100 =>  1060\n"
     ]
    }
   ],
   "source": [
    "import math\n",
    "\n",
    "# Return an array of all primes less than n using the Sieve of Eratosthenes\n",
    "def primearray(n):\n",
    "    if n < 3:\n",
    "        return [2]\n",
    "    if n < 5:\n",
    "        return [2,3]\n",
    "    if n < 11:\n",
    "        return [2,3,5,7]\n",
    "    arr = [2,3,5,7]\n",
    "    for i in range(7, n, 2):\n",
    "        # If not a multiple of 3, 5, or 7 and i is a Fermat pseudoprime\n",
    "        if i % 3 != 0 and i % 5 != 0 and i % 7 != 0 and pow(2, i-1, i) == 1: \n",
    "            arr.append(i)\n",
    "    index = 4; # Skip 2,3,5,7 - they won't be in this list\n",
    "    while index <= math.floor(math.sqrt(n)):\n",
    "        if index < len(arr):\n",
    "            divisor = arr[index]\n",
    "        i = index + 1\n",
    "        while i < len(arr):\n",
    "            if arr[i] % divisor == 0:\n",
    "                arr.pop(i)\n",
    "            else:\n",
    "                i += 1\n",
    "        index += 1\n",
    "    return arr\n",
    "\n",
    "def sum_of_primes_less_than_or_equal_to(n,arr):\n",
    "    sum = 0\n",
    "    for i in arr:\n",
    "        if i <= n:\n",
    "            sum += i\n",
    "        else:\n",
    "            break\n",
    "    return sum\n",
    "\n",
    "[2, 4, 6, 8, 10, 12]\n",
    "[3, 6, 9, 12]\n",
    "\n",
    "arr = primearray(1000001)\n",
    "test_values = [\n",
    "    2,\n",
    "    3,\n",
    "    4,\n",
    "    5,\n",
    "    6,\n",
    "    7,\n",
    "    8,\n",
    "    9,\n",
    "    10,\n",
    "    11,\n",
    "    12,\n",
    "    100\n",
    "]\n",
    "\n",
    "for i in test_values:\n",
    "    print(i,\"=> \",sum_of_primes_less_than_or_equal_to(i,arr))\n"
   ]
  },
  {
   "cell_type": "markdown",
   "metadata": {},
   "source": [
    "# Challenge #10 Take Two - Set Implementation"
   ]
  },
  {
   "cell_type": "code",
   "execution_count": 21,
   "metadata": {},
   "outputs": [
    {
     "name": "stdout",
     "output_type": "stream",
     "text": [
      "2 =>  2\n",
      "3 =>  5\n",
      "4 =>  5\n",
      "5 =>  10\n",
      "6 =>  10\n",
      "7 =>  17\n",
      "8 =>  17\n",
      "9 =>  17\n",
      "10 =>  17\n",
      "11 =>  28\n",
      "12 =>  28\n",
      "100 =>  1060\n",
      "122 =>  1593\n"
     ]
    }
   ],
   "source": [
    "import math\n",
    "\n",
    "def primes(n):\n",
    "    set = {i for i in range(3, n, 2)}\n",
    "    for i in range(3, math.floor(math.sqrt(n)), 2):\n",
    "        test_set = {j for j in range(2*i, n, i)}\n",
    "        set = set - test_set\n",
    "    set = set | {2}\n",
    "    return set\n",
    "\n",
    "def sum_of_primes_less_than_or_equal_to(n,primes):\n",
    "    filtered_set = {i for i in primes if i <= n}\n",
    "    return sum(filtered_set)\n",
    "\n",
    "p = primes(1000000)\n",
    "test_values = [\n",
    "    2,\n",
    "    3,\n",
    "    4,\n",
    "    5,\n",
    "    6,\n",
    "    7,\n",
    "    8,\n",
    "    9,\n",
    "    10,\n",
    "    11,\n",
    "    12,\n",
    "    100,\n",
    "    122\n",
    "]\n",
    "\n",
    "for i in test_values:\n",
    "    print(i,\"=> \",sum_of_primes_less_than_or_equal_to(i,p))\n"
   ]
  }
 ],
 "metadata": {
  "kernelspec": {
   "display_name": "Python 3",
   "language": "python",
   "name": "python3"
  },
  "language_info": {
   "codemirror_mode": {
    "name": "ipython",
    "version": 3
   },
   "file_extension": ".py",
   "mimetype": "text/x-python",
   "name": "python",
   "nbconvert_exporter": "python",
   "pygments_lexer": "ipython3",
   "version": "3.10.8"
  }
 },
 "nbformat": 4,
 "nbformat_minor": 2
}
