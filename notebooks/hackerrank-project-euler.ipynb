{
 "cells": [
  {
   "cell_type": "markdown",
   "metadata": {},
   "source": [
    "# HackerRank Project Euler Contest\n",
    "\n",
    "This notebook tracks my entries in the [HackerRank Project Euler Contest](https://www.hackerrank.com/contests/projecteuler/challenges).  I'm tired of their tutorials, so let's try some actual programming problems.\n",
    "\n",
    "And yes, I will almost certainly get bogged down in the math problems and stop learning Python, but it'll be helpful until I get to that point!"
   ]
  },
  {
   "cell_type": "markdown",
   "metadata": {},
   "source": [
    "# Challenge 1: Multiples of 3 and 5\n",
    "\n",
    "If we list all the natural numbers below 10 that are multiples of 3 or 5, we get 3, 5, 6, and 9.  The sum of these multiples is 23.\n",
    "\n",
    "Find the sum of all the multiples of 3 or 5 below _N_."
   ]
  },
  {
   "cell_type": "code",
   "execution_count": 15,
   "metadata": {},
   "outputs": [
    {
     "name": "stdout",
     "output_type": "stream",
     "text": [
      "63\n",
      "30\n",
      "15\n",
      "78\n"
     ]
    }
   ],
   "source": [
    "# Find the sum of the multiples of a below n\n",
    "#\n",
    "# The multiples of a below n are a, 2a, 3a, ..., ka where k is n div a.\n",
    "# This means their sum is a + a(2) + a(3) + ... + a(k) = a(1 + 2 + 3 + ... + k) = a(k(k+1)/2).\n",
    "def sum_of_multiples(a, n):\n",
    "    if n < a:\n",
    "        return 0\n",
    "    x = (n-1) // a;\n",
    "    return a * (x * (x + 1)) // 2\n",
    "\n",
    "def sum_of_multiples_pair(a, b, n):\n",
    "    return sum_of_multiples(a, n) + sum_of_multiples(b, n) - sum_of_multiples(a * b, n)\n",
    "\n",
    "print(sum_of_multiples(3, 20))\n",
    "print(sum_of_multiples(5, 20))\n",
    "print(sum_of_multiples(15, 20))\n",
    "\n",
    "print(sum_of_multiples_pair(3, 5, 20))"
   ]
  },
  {
   "cell_type": "markdown",
   "metadata": {},
   "source": [
    "# Challenge 2: Even Fibonacci Numbers\n",
    "\n",
    "By considering the terms in the Fibonacci sequence whose values do not exceed _N_, find the sum of the even-valued terms."
   ]
  },
  {
   "cell_type": "code",
   "execution_count": null,
   "metadata": {},
   "outputs": [],
   "source": [
    "1 -> 1\n",
    "2 -> 3\n",
    "3 -> 6\n",
    "5 -> 11\n",
    "8 -> 19\n",
    "13 -> 32\n",
    "21 -> 53\n",
    "34 -> 87\n",
    "55 -> 142\n",
    "89\n",
    "144\n"
   ]
  },
  {
   "cell_type": "code",
   "execution_count": null,
   "metadata": {},
   "outputs": [],
   "source": []
  },
  {
   "cell_type": "markdown",
   "metadata": {},
   "source": [
    "# Challenge 3: Largest Prime Factor\n",
    "\n",
    "What is the largest prime factor of a given number _N_?"
   ]
  },
  {
   "cell_type": "code",
   "execution_count": 71,
   "metadata": {},
   "outputs": [
    {
     "name": "stdout",
     "output_type": "stream",
     "text": [
      "333667\n",
      "97\n",
      "5\n",
      "17\n",
      "5\n",
      "[2, 5, 10]\n"
     ]
    }
   ],
   "source": [
    "import math\n",
    "\n",
    "# Return an array of all primes less than n using the Sieve of Eratosthenes\n",
    "def primearray(n):\n",
    "    arr = []\n",
    "    for i in range(2, n):\n",
    "        arr.append(i)\n",
    "    newlist = []\n",
    "    index = 0;\n",
    "    while index < math.sqrt(n):\n",
    "        divisor = arr[index]\n",
    "        i = index + 1\n",
    "        while i < len(arr):\n",
    "            if arr[i] % divisor == 0:\n",
    "                arr.pop(i)\n",
    "            else:\n",
    "                i += 1\n",
    "        index += 1\n",
    "    return arr\n",
    "\n",
    "# This only works if primearray contains all primes less than sqrt(n)!\n",
    "def largest_prime_factor(n,primearray):\n",
    "    answer = 0\n",
    "    for factor in primearray:\n",
    "        if factor < n and n % factor == 0:\n",
    "            answer = factor\n",
    "        if factor > n:\n",
    "            break\n",
    "    if answer == 0:\n",
    "        answer = n\n",
    "    return answer\n",
    "\n",
    "def get_factor_array(n):\n",
    "    arr = []\n",
    "    if n % 2 == 0:\n",
    "            arr.append(2)\n",
    "    for i in range(3, (n // 2) + 1, 2):\n",
    "        if n % i == 0:\n",
    "            arr.append(i)\n",
    "    arr.append(n)\n",
    "    return arr\n",
    "\n",
    "def eliminate_composites(arr):\n",
    "    index = 0\n",
    "    while index < len(arr):\n",
    "        divisor = arr[index]\n",
    "        i = index + 1\n",
    "        while i < len(arr):\n",
    "            if arr[i] % divisor == 0:\n",
    "                arr.pop(i)\n",
    "            else:\n",
    "                i += 1\n",
    "        index += 1\n",
    "    return arr\n",
    "\n",
    "def lpf(n):\n",
    "    arr = eliminate_composites(get_factor_array(n))\n",
    "    return arr[len(arr) - 1]\n",
    "\n",
    "print(lpf(111111111))\n",
    "print(lpf(90210))\n",
    "print(lpf(480))\n",
    "print(lpf(17))\n",
    "print(lpf(10))\n",
    "print(get_factor_array(10))\n",
    "\n",
    "# print(get_factor_array(111111111))\n",
    "# print(eliminate_composites(get_factor_array(111111111)))\n",
    "# p = primearray(100000)\n",
    "# print(largest_prime_factor(11,p))\n",
    "# print(largest_prime_factor(18,p))\n",
    "# print(largest_prime_factor(24,p))\n"
   ]
  }
 ],
 "metadata": {
  "kernelspec": {
   "display_name": "Python 3",
   "language": "python",
   "name": "python3"
  },
  "language_info": {
   "codemirror_mode": {
    "name": "ipython",
    "version": 3
   },
   "file_extension": ".py",
   "mimetype": "text/x-python",
   "name": "python",
   "nbconvert_exporter": "python",
   "pygments_lexer": "ipython3",
   "version": "3.10.8"
  }
 },
 "nbformat": 4,
 "nbformat_minor": 2
}
