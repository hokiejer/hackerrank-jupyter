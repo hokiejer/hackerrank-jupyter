{
 "cells": [
  {
   "cell_type": "markdown",
   "metadata": {},
   "source": [
    "# HackerRank Python Introduction Challenges\n",
    "\n",
    "This notebook contains the set of Python intrdoduction challenges posted on Hackerrank [here](https://www.hackerrank.com/domains/python?filters%5Bsubdomains%5D%5B%5D=py-introduction).\n",
    "\n",
    "I'm mostly using them just to get the hang of using a Jupyter codespace and to learn some basic Python syntax.\n",
    "\n"
   ]
  },
  {
   "cell_type": "markdown",
   "metadata": {},
   "source": [
    "Print `Hello, World!`"
   ]
  },
  {
   "cell_type": "code",
   "execution_count": 1,
   "metadata": {},
   "outputs": [
    {
     "name": "stdout",
     "output_type": "stream",
     "text": [
      "Hello, World!\n"
     ]
    }
   ],
   "source": [
    "print(\"Hello, World!\")"
   ]
  },
  {
   "cell_type": "markdown",
   "metadata": {},
   "source": [
    "Given an integer, _n_, perform the following conditional actions:\n",
    "- If _n_ is odd, print `Weird`\n",
    "- If _n_ is even and in the inclusive range of 2 to 5, print `Not Weird`\n",
    "- If _n_ is even and in the inclusive range of 6 to 20, print `Weird`\n",
    "- If _n_ is even and greater than 20, print `Not Weird`"
   ]
  },
  {
   "cell_type": "code",
   "execution_count": 4,
   "metadata": {},
   "outputs": [
    {
     "name": "stdout",
     "output_type": "stream",
     "text": [
      "n =  1 , Result = Weird\n",
      "n =  2 , Result = Not Weird\n",
      "n =  5 , Result = Weird\n",
      "n =  6 , Result = Not Weird\n",
      "n =  7 , Result = Weird\n",
      "n =  8 , Result = Weird\n",
      "n =  19 , Result = Weird\n",
      "n =  21 , Result = Weird\n",
      "n =  22 , Result = Not Weird\n"
     ]
    }
   ],
   "source": [
    "def determine_weirdness(n):\n",
    "    if n % 2 == 1:\n",
    "        print(\"Weird\")\n",
    "    elif n <= 6:\n",
    "        print(\"Not Weird\")\n",
    "    elif n <= 20:\n",
    "        print(\"Weird\")\n",
    "    else:\n",
    "        print(\"Not Weird\")\n",
    "\n",
    "test_values = [1,2,5,6,7,8,19,21,22]\n",
    "for n in test_values:\n",
    "    # Print \"hello\" without a newline\n",
    "    print(\"n = \",n,\", Result = \", end=\"\")\n",
    "    determine_weirdness(n)"
   ]
  },
  {
   "cell_type": "markdown",
   "metadata": {},
   "source": [
    "The provided code stub reads two integers from STDIN, _a_ and _b_. Add code to print three lines where:\n",
    "\n",
    "1. The first line contains the sum of the two numbers.\n",
    "2. The second line contains the difference of the two numbers (first - second).\n",
    "3. The third line contains the product of the two numbers."
   ]
  },
  {
   "cell_type": "code",
   "execution_count": 6,
   "metadata": {},
   "outputs": [
    {
     "name": "stdout",
     "output_type": "stream",
     "text": [
      "5\n",
      "1\n",
      "6\n"
     ]
    }
   ],
   "source": [
    "def printdata(a,b):\n",
    "    print(a+b)\n",
    "    print(a-b)\n",
    "    print(a*b)\n",
    "\n",
    "printdata(3,2)"
   ]
  },
  {
   "cell_type": "code",
   "execution_count": null,
   "metadata": {},
   "outputs": [],
   "source": [
    "Task\n",
    "The provided code stub reads two integers, _a_ and _b_, from STDIN.\n",
    "\n",
    "Add logic to print two lines. The first line should contain the result of integer division, _a_ // _b_. \n",
    "The second line should contain the result of float division, _a_ / _b_.\n",
    "\n",
    "No rounding or formatting is necessary."
   ]
  },
  {
   "cell_type": "code",
   "execution_count": 7,
   "metadata": {},
   "outputs": [
    {
     "name": "stdout",
     "output_type": "stream",
     "text": [
      "1\n",
      "1.3333333333333333\n"
     ]
    }
   ],
   "source": [
    "def print_div_results(a,b):\n",
    "    print(a//b)\n",
    "    print(a/b)\n",
    "\n",
    "print_div_results(4,3)"
   ]
  },
  {
   "cell_type": "markdown",
   "metadata": {},
   "source": [
    "Read an integer _n_ from STDIN and then print, on separate lines in ascending order, the square of each non-negative integer less than _n_."
   ]
  },
  {
   "cell_type": "code",
   "execution_count": 9,
   "metadata": {},
   "outputs": [
    {
     "name": "stdout",
     "output_type": "stream",
     "text": [
      "0\n",
      "1\n",
      "4\n",
      "9\n",
      "16\n"
     ]
    }
   ],
   "source": [
    "def print_squares(n):\n",
    "    for i in range(n):\n",
    "        print(i**2)\n",
    "\n",
    "print_squares(5)\n"
   ]
  },
  {
   "cell_type": "markdown",
   "metadata": {},
   "source": [
    "An extra day is added to the calendar almost every four years as February 29, and the day is called a leap day. It corrects the calendar for the fact that our planet takes approximately 365.25 days to orbit the sun. A leap year contains a leap day.\n",
    "\n",
    "In the Gregorian calendar, three conditions are used to identify leap years:\n",
    "\n",
    "* The year can be evenly divided by 4, is a leap year, unless:\n",
    "  * The year can be evenly divided by 100, it is NOT a leap year, unless:\n",
    "    * The year is also evenly divisible by 400. Then it is a leap year.\n",
    "\n",
    "This means that in the Gregorian calendar, the years 2000 and 2400 are leap years, while 1800, 1900, 2100, 2200, 2300 and 2500 are NOT leap years.\n",
    "\n",
    "Given a year, determine whether it is a leap year.  If it is a leap year, return the Boolean `True`, otherwise return `False`."
   ]
  },
  {
   "cell_type": "code",
   "execution_count": 15,
   "metadata": {},
   "outputs": [
    {
     "name": "stdout",
     "output_type": "stream",
     "text": [
      "False\n",
      "True\n",
      "False\n",
      "True\n"
     ]
    }
   ],
   "source": [
    "def is_leap(year):\n",
    "    leap = False\n",
    "    \n",
    "    # Write your logic here\n",
    "    if year % 4 == 0:\n",
    "        leap = True\n",
    "        if year % 100 == 0:\n",
    "            leap = False\n",
    "            if year % 400 == 0:\n",
    "                leap = True\n",
    "\n",
    "    return leap\n",
    "\n",
    "print(is_leap(1990));\n",
    "print(is_leap(2000));\n",
    "print(is_leap(2100));\n",
    "print(is_leap(2024));"
   ]
  },
  {
   "cell_type": "markdown",
   "metadata": {},
   "source": [
    "Given an integer _n_ print the following without using any string methods:\n",
    "\n",
    "123..._n_"
   ]
  },
  {
   "cell_type": "code",
   "execution_count": 17,
   "metadata": {},
   "outputs": [
    {
     "name": "stdout",
     "output_type": "stream",
     "text": [
      "123456789101112"
     ]
    }
   ],
   "source": [
    "def print_string(n):\n",
    "    for i in range(1, n+1):\n",
    "        print(i, end=\"\")\n",
    "    print(\"\")\n",
    "\n",
    "print_string(12)"
   ]
  }
 ],
 "metadata": {
  "kernelspec": {
   "display_name": "Python 3",
   "language": "python",
   "name": "python3"
  },
  "language_info": {
   "codemirror_mode": {
    "name": "ipython",
    "version": 3
   },
   "file_extension": ".py",
   "mimetype": "text/x-python",
   "name": "python",
   "nbconvert_exporter": "python",
   "pygments_lexer": "ipython3",
   "version": "3.10.8"
  }
 },
 "nbformat": 4,
 "nbformat_minor": 2
}
